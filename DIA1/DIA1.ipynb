{
  "nbformat": 4,
  "nbformat_minor": 0,
  "metadata": {
    "colab": {
      "provenance": []
    },
    "kernelspec": {
      "name": "python3",
      "display_name": "Python 3"
    },
    "language_info": {
      "name": "python"
    }
  },
  "cells": [
    {
      "cell_type": "code",
      "execution_count": null,
      "metadata": {
        "id": "hsNzCLgP7R8_"
      },
      "outputs": [],
      "source": []
    },
    {
      "cell_type": "markdown",
      "source": [
        "# **DOC STRINGS**"
      ],
      "metadata": {
        "id": "fs72EXzE7zAK"
      }
    },
    {
      "cell_type": "markdown",
      "source": [
        "Los Docstrings proporcionan una manera conveniente de asociar documentación con funciones, clases,\n",
        "o módulos."
      ],
      "metadata": {
        "id": "6VnTWQDV78LU"
      }
    },
    {
      "cell_type": "code",
      "source": [
        "def my_function(a,b):\n",
        "   '''Esta función es sobre la suma de dos números'''\n",
        "   return a+b\n",
        "my_function(10,5)"
      ],
      "metadata": {
        "colab": {
          "base_uri": "https://localhost:8080/"
        },
        "id": "yPsuLMMJ8Gls",
        "outputId": "0163379b-0136-43cc-ff75-04f826e9a432"
      },
      "execution_count": 1,
      "outputs": [
        {
          "output_type": "execute_result",
          "data": {
            "text/plain": [
              "15"
            ]
          },
          "metadata": {},
          "execution_count": 1
        }
      ]
    },
    {
      "cell_type": "markdown",
      "source": [
        "my_function.__doc__"
      ],
      "metadata": {
        "id": "h2XtlHNA8h-M"
      }
    },
    {
      "cell_type": "markdown",
      "source": [
        "Esta función trata de sumar dos números"
      ],
      "metadata": {
        "id": "_VlStFKx8yT8"
      }
    },
    {
      "cell_type": "markdown",
      "source": [
        "# **TIPOS DE DATOS**"
      ],
      "metadata": {
        "id": "-mOWLKP4-EuU"
      }
    },
    {
      "cell_type": "code",
      "source": [
        "#Numericos\n",
        "int_= 10\n",
        "float_= 2.4\n",
        "complex_=3+8j\n",
        "\n",
        "#Secuenciales\n",
        "list_=[1,2,3,4,5]\n",
        "tuple_=(1,2,3,4,5)\n",
        "\n",
        "#Mappeo\n",
        "dict_={'a':1,'b':2}\n",
        "\n",
        "# set\n",
        "set_={1,2,3,4}\n",
        "\n",
        "#bool\n",
        "bool_=True\n",
        "\n",
        "# string\n",
        "string_=\"Hello\""
      ],
      "metadata": {
        "id": "ZklX2Jz5-MEd"
      },
      "execution_count": null,
      "outputs": []
    },
    {
      "cell_type": "markdown",
      "source": [
        "# **DECLARACIÓN CONDICIONAL Y DE BUCLE**"
      ],
      "metadata": {
        "id": "XWtPTEzhAgeo"
      }
    },
    {
      "cell_type": "code",
      "source": [
        "# if .. else\n",
        "if(True):\n",
        "    print(\"hi\")\n",
        "else:\n",
        "    print(\"hello\")\n",
        "# short hand   print(\"A\") if a > b else print(\"B\")"
      ],
      "metadata": {
        "id": "ugfV387MBEHm"
      },
      "execution_count": null,
      "outputs": []
    },
    {
      "cell_type": "markdown",
      "source": [
        "hi"
      ],
      "metadata": {
        "id": "dcBYmbPrBKWz"
      }
    },
    {
      "cell_type": "code",
      "source": [
        "# if ... elif ... else\n",
        "flag=1\n",
        "if(flag==0):\n",
        "    print(\"if\")\n",
        "elif(flag==1):\n",
        "    print(\"elif\")\n",
        "else:\n",
        "    print(\"else\")"
      ],
      "metadata": {
        "id": "p7du1umwBdca"
      },
      "execution_count": null,
      "outputs": []
    },
    {
      "cell_type": "markdown",
      "source": [
        "elif"
      ],
      "metadata": {
        "id": "vWTzeo3lBOeb"
      }
    },
    {
      "cell_type": "code",
      "source": [
        "#Nested if\n",
        "flag =1\n",
        "if(flag>0):\n",
        "    if(flag==1):\n",
        "        print(\"inside if\")\n",
        "    else:\n",
        "        print(\"inside else\")\n",
        "else:\n",
        "    pass"
      ],
      "metadata": {
        "id": "bNZq8DngBet-"
      },
      "execution_count": null,
      "outputs": []
    },
    {
      "cell_type": "markdown",
      "source": [
        "inside if"
      ],
      "metadata": {
        "id": "zitD93OiBgei"
      }
    },
    {
      "cell_type": "code",
      "source": [
        "# looping\n",
        "# for and while\n",
        "i = 1\n",
        "while i < 5:\n",
        "  print(i)\n",
        "  i += 1\n",
        "else:\n",
        "  print(\"i is no longer less than 5\")"
      ],
      "metadata": {
        "colab": {
          "base_uri": "https://localhost:8080/"
        },
        "id": "d44ORtlrBkmn",
        "outputId": "e8ef3143-963c-4070-dee5-829277e9e18d"
      },
      "execution_count": 2,
      "outputs": [
        {
          "output_type": "stream",
          "name": "stdout",
          "text": [
            "1\n",
            "2\n",
            "3\n",
            "4\n",
            "i is no longer less than 5\n"
          ]
        }
      ]
    },
    {
      "cell_type": "code",
      "source": [
        "# break\n",
        "i = 1\n",
        "while i < 5:\n",
        "    print(i)\n",
        "    i += 1\n",
        "    if(i==3):\n",
        "        break\n",
        "\n",
        "else:\n",
        "  print(\"i is no longer less than 5\")"
      ],
      "metadata": {
        "colab": {
          "base_uri": "https://localhost:8080/"
        },
        "id": "wrJh7pYnBpxm",
        "outputId": "14ce3364-380a-493d-bf00-c10c61041229"
      },
      "execution_count": 3,
      "outputs": [
        {
          "output_type": "stream",
          "name": "stdout",
          "text": [
            "1\n",
            "2\n"
          ]
        }
      ]
    },
    {
      "cell_type": "code",
      "source": [
        "# continue\n",
        "# break\n",
        "i = 1\n",
        "while i < 5:\n",
        "    print(i)\n",
        "    i += 1\n",
        "    if(i==3):\n",
        "        continue\n",
        "\n",
        "else:\n",
        "  print(\"i is no longer less than 5\")"
      ],
      "metadata": {
        "colab": {
          "base_uri": "https://localhost:8080/"
        },
        "id": "nM-oaSYwBsDG",
        "outputId": "4608a96a-3f53-44ce-e4dc-27e25706962d"
      },
      "execution_count": 4,
      "outputs": [
        {
          "output_type": "stream",
          "name": "stdout",
          "text": [
            "1\n",
            "2\n",
            "3\n",
            "4\n",
            "i is no longer less than 5\n"
          ]
        }
      ]
    },
    {
      "cell_type": "code",
      "source": [
        "# for loop\n",
        "for x in range(5):\n",
        "  print(x, end=\" \")"
      ],
      "metadata": {
        "colab": {
          "base_uri": "https://localhost:8080/"
        },
        "id": "8AbxyAUiB8Sp",
        "outputId": "fd96b35c-37e0-4f5e-9932-12656d576993"
      },
      "execution_count": 5,
      "outputs": [
        {
          "output_type": "stream",
          "name": "stdout",
          "text": [
            "0 1 2 3 4 "
          ]
        }
      ]
    }
  ]
}