{
  "nbformat": 4,
  "nbformat_minor": 0,
  "metadata": {
    "colab": {
      "provenance": []
    },
    "kernelspec": {
      "name": "python3",
      "display_name": "Python 3"
    },
    "language_info": {
      "name": "python"
    }
  },
  "cells": [
    {
      "cell_type": "markdown",
      "source": [
        "# DATOS BOOLEANOS"
      ],
      "metadata": {
        "id": "M5HzP3v49uMZ"
      }
    },
    {
      "cell_type": "code",
      "source": [
        "bool_1=bool(1)\n",
        "bool_2=bool(0)\n",
        "bool_3=bool(None)\n",
        "print(bool_1,bool_2,bool_3)"
      ],
      "metadata": {
        "colab": {
          "base_uri": "https://localhost:8080/"
        },
        "id": "yh8bJ8Iq9w8q",
        "outputId": "445a3460-813d-45bf-f4f8-cc9d96b6a115"
      },
      "execution_count": 1,
      "outputs": [
        {
          "output_type": "stream",
          "name": "stdout",
          "text": [
            "True False False\n"
          ]
        }
      ]
    },
    {
      "cell_type": "markdown",
      "source": [
        "# CASTING"
      ],
      "metadata": {
        "id": "Q9oa71Dy96iy"
      }
    },
    {
      "cell_type": "code",
      "source": [
        "# int()\n",
        "# str()\n",
        "# bool()\n",
        "# float()\n",
        "# list()\n",
        "# tuple()\n",
        "# set()"
      ],
      "metadata": {
        "id": "3okf5r00-AMy"
      },
      "execution_count": null,
      "outputs": []
    },
    {
      "cell_type": "markdown",
      "source": [
        "# DATOS TIPO STRING (CADENA DE CARACTERES)"
      ],
      "metadata": {
        "id": "X7QdOv-e-Bpa"
      }
    },
    {
      "cell_type": "code",
      "source": [
        "str_=\"Hello World\"\n",
        "print(type(str))\n",
        "isinstance(str_,str)"
      ],
      "metadata": {
        "colab": {
          "base_uri": "https://localhost:8080/"
        },
        "id": "ZTdiBTWB-Jeo",
        "outputId": "c21cdd1f-9ce8-4528-a909-5f2a6f7c371d"
      },
      "execution_count": 2,
      "outputs": [
        {
          "output_type": "stream",
          "name": "stdout",
          "text": [
            "<class 'type'>\n"
          ]
        },
        {
          "output_type": "execute_result",
          "data": {
            "text/plain": [
              "True"
            ]
          },
          "metadata": {},
          "execution_count": 2
        }
      ]
    },
    {
      "cell_type": "code",
      "source": [
        "str_[0]"
      ],
      "metadata": {
        "colab": {
          "base_uri": "https://localhost:8080/",
          "height": 35
        },
        "id": "MBAx2p7B-PC7",
        "outputId": "064e0d32-88b3-4c0a-a71c-c31ed32ae8a0"
      },
      "execution_count": 3,
      "outputs": [
        {
          "output_type": "execute_result",
          "data": {
            "text/plain": [
              "'H'"
            ],
            "application/vnd.google.colaboratory.intrinsic+json": {
              "type": "string"
            }
          },
          "metadata": {},
          "execution_count": 3
        }
      ]
    },
    {
      "cell_type": "code",
      "source": [
        "str_[-1]"
      ],
      "metadata": {
        "colab": {
          "base_uri": "https://localhost:8080/",
          "height": 35
        },
        "id": "aXCWnxR_-QKD",
        "outputId": "6fa0e1fb-2af0-4e93-d124-8bb9dc3fa65f"
      },
      "execution_count": 4,
      "outputs": [
        {
          "output_type": "execute_result",
          "data": {
            "text/plain": [
              "'d'"
            ],
            "application/vnd.google.colaboratory.intrinsic+json": {
              "type": "string"
            }
          },
          "metadata": {},
          "execution_count": 4
        }
      ]
    },
    {
      "cell_type": "code",
      "source": [
        "# str slicing\n",
        "print(str_[2:5])  #forward\n",
        "print(str_[-5:]) #backward\n",
        "str_[::-1] #reverse"
      ],
      "metadata": {
        "colab": {
          "base_uri": "https://localhost:8080/",
          "height": 70
        },
        "id": "WJ594LFO-VeR",
        "outputId": "a14559b4-76dc-49e4-da2e-46ff33318845"
      },
      "execution_count": 5,
      "outputs": [
        {
          "output_type": "stream",
          "name": "stdout",
          "text": [
            "llo\n",
            "World\n"
          ]
        },
        {
          "output_type": "execute_result",
          "data": {
            "text/plain": [
              "'dlroW olleH'"
            ],
            "application/vnd.google.colaboratory.intrinsic+json": {
              "type": "string"
            }
          },
          "metadata": {},
          "execution_count": 5
        }
      ]
    },
    {
      "cell_type": "markdown",
      "source": [
        "# CONCATENACION"
      ],
      "metadata": {
        "id": "U_R1uuaO_R5U"
      }
    },
    {
      "cell_type": "code",
      "source": [
        "str_1=\"first\"\n",
        "str_2=\"second\"\n",
        "print(str_1+\" \"+str_2)\n",
        "print(str_*3) #muliple\n",
        "print(str_1,str_2,sep=\":\") #sep\n",
        "print(str_1,str_2,end=\" ,\") #end"
      ],
      "metadata": {
        "colab": {
          "base_uri": "https://localhost:8080/"
        },
        "id": "u_xJimZC_Tug",
        "outputId": "e3db7e88-d98d-481f-a3d8-a4d1821a94f6"
      },
      "execution_count": 6,
      "outputs": [
        {
          "output_type": "stream",
          "name": "stdout",
          "text": [
            "first second\n",
            "Hello WorldHello WorldHello World\n",
            "first:second\n",
            "first second ,"
          ]
        }
      ]
    },
    {
      "cell_type": "code",
      "source": [
        "# delete string\n",
        "del str_\n",
        "print(str_)"
      ],
      "metadata": {
        "colab": {
          "base_uri": "https://localhost:8080/",
          "height": 176
        },
        "id": "aCCqHApoCmzo",
        "outputId": "2694e114-6afc-46cb-8c52-82ff2ad5071c"
      },
      "execution_count": 7,
      "outputs": [
        {
          "output_type": "error",
          "ename": "NameError",
          "evalue": "name 'str_' is not defined",
          "traceback": [
            "\u001b[0;31m---------------------------------------------------------------------------\u001b[0m",
            "\u001b[0;31mNameError\u001b[0m                                 Traceback (most recent call last)",
            "\u001b[0;32m<ipython-input-7-38151ea13c07>\u001b[0m in \u001b[0;36m<cell line: 3>\u001b[0;34m()\u001b[0m\n\u001b[1;32m      1\u001b[0m \u001b[0;31m# delete string\u001b[0m\u001b[0;34m\u001b[0m\u001b[0;34m\u001b[0m\u001b[0m\n\u001b[1;32m      2\u001b[0m \u001b[0;32mdel\u001b[0m \u001b[0mstr_\u001b[0m\u001b[0;34m\u001b[0m\u001b[0;34m\u001b[0m\u001b[0m\n\u001b[0;32m----> 3\u001b[0;31m \u001b[0mprint\u001b[0m\u001b[0;34m(\u001b[0m\u001b[0mstr_\u001b[0m\u001b[0;34m)\u001b[0m\u001b[0;34m\u001b[0m\u001b[0;34m\u001b[0m\u001b[0m\n\u001b[0m",
            "\u001b[0;31mNameError\u001b[0m: name 'str_' is not defined"
          ]
        }
      ]
    },
    {
      "cell_type": "markdown",
      "source": [
        "# PARTICION"
      ],
      "metadata": {
        "id": "13ExoSEpCsHA"
      }
    },
    {
      "cell_type": "code",
      "source": [
        "str_part=\"Hello, how are your?, are they?\"\n",
        "print(str_part.partition(\"are\")) #particion de la sentencia"
      ],
      "metadata": {
        "colab": {
          "base_uri": "https://localhost:8080/"
        },
        "id": "Y_tdJaxICucI",
        "outputId": "a207d15a-7cbb-4f14-a34f-2be348ab62ac"
      },
      "execution_count": 8,
      "outputs": [
        {
          "output_type": "stream",
          "name": "stdout",
          "text": [
            "('Hello, how ', 'are', ' your?, are they?')\n"
          ]
        }
      ]
    },
    {
      "cell_type": "code",
      "source": [
        "print(str_part.rpartition(\"are\")) #ultima"
      ],
      "metadata": {
        "colab": {
          "base_uri": "https://localhost:8080/"
        },
        "id": "UrAHH4q4C0ep",
        "outputId": "907705ae-1a7a-483e-cd74-0d2dd8317d29"
      },
      "execution_count": 9,
      "outputs": [
        {
          "output_type": "stream",
          "name": "stdout",
          "text": [
            "('Hello, how are your?, ', 'are', ' they?')\n"
          ]
        }
      ]
    },
    {
      "cell_type": "markdown",
      "source": [
        "# FUNCIONES"
      ],
      "metadata": {
        "id": "RBRqFYKJFc0D"
      }
    },
    {
      "cell_type": "code",
      "source": [
        "str_strip=\"**********     hi    *******\"\n",
        "print(str_strip.strip(\"*\"),end=\"\")"
      ],
      "metadata": {
        "colab": {
          "base_uri": "https://localhost:8080/"
        },
        "id": "cx75gY-GFeks",
        "outputId": "4154d340-618e-4945-d6dc-2e8f37f45cb6"
      },
      "execution_count": 10,
      "outputs": [
        {
          "output_type": "stream",
          "name": "stdout",
          "text": [
            "     hi    "
          ]
        }
      ]
    },
    {
      "cell_type": "code",
      "source": [
        "print(str_strip.rstrip(\"*\"),end=\"\")"
      ],
      "metadata": {
        "colab": {
          "base_uri": "https://localhost:8080/"
        },
        "id": "zwy-w6SzFsWU",
        "outputId": "9d87d48e-55e1-499c-ab37-eaaf21329736"
      },
      "execution_count": 11,
      "outputs": [
        {
          "output_type": "stream",
          "name": "stdout",
          "text": [
            "**********     hi    "
          ]
        }
      ]
    },
    {
      "cell_type": "code",
      "source": [
        "print(str_strip.lstrip(\"*\"),end=\"\")"
      ],
      "metadata": {
        "colab": {
          "base_uri": "https://localhost:8080/"
        },
        "id": "pZGR0FB6Fv7s",
        "outputId": "c0750e27-5077-4f05-a5df-7cbd363b769a"
      },
      "execution_count": 12,
      "outputs": [
        {
          "output_type": "stream",
          "name": "stdout",
          "text": [
            "     hi    *******"
          ]
        }
      ]
    },
    {
      "cell_type": "code",
      "source": [
        "print(str_part.count(\"are\"))  #Cuenta"
      ],
      "metadata": {
        "colab": {
          "base_uri": "https://localhost:8080/"
        },
        "id": "2BicMRaqFxms",
        "outputId": "47c46cc4-80dd-4aba-9829-edc6fddc004c"
      },
      "execution_count": 13,
      "outputs": [
        {
          "output_type": "stream",
          "name": "stdout",
          "text": [
            "2\n"
          ]
        }
      ]
    },
    {
      "cell_type": "code",
      "source": [
        "str_ex=\"welcome everyone\"\n",
        "print(str_ex.split())"
      ],
      "metadata": {
        "colab": {
          "base_uri": "https://localhost:8080/"
        },
        "id": "TGk5znlRJ74t",
        "outputId": "81999fbb-1c92-42a1-dc24-223349709720"
      },
      "execution_count": 14,
      "outputs": [
        {
          "output_type": "stream",
          "name": "stdout",
          "text": [
            "['welcome', 'everyone']\n"
          ]
        }
      ]
    },
    {
      "cell_type": "code",
      "source": [
        "str_ex.find(\"everyone\")"
      ],
      "metadata": {
        "colab": {
          "base_uri": "https://localhost:8080/"
        },
        "id": "GsE0L_rMJ9Ol",
        "outputId": "1edfe576-b572-498b-9a24-7e8bb2306c10"
      },
      "execution_count": 15,
      "outputs": [
        {
          "output_type": "execute_result",
          "data": {
            "text/plain": [
              "8"
            ]
          },
          "metadata": {},
          "execution_count": 15
        }
      ]
    },
    {
      "cell_type": "code",
      "source": [
        "str_ex.replace(\"everyone\",\",hi\")"
      ],
      "metadata": {
        "colab": {
          "base_uri": "https://localhost:8080/",
          "height": 35
        },
        "id": "p75Qa_eMKBLk",
        "outputId": "e8a9a234-1000-445b-ba84-d50b0f389e80"
      },
      "execution_count": 16,
      "outputs": [
        {
          "output_type": "execute_result",
          "data": {
            "text/plain": [
              "'welcome ,hi'"
            ],
            "application/vnd.google.colaboratory.intrinsic+json": {
              "type": "string"
            }
          },
          "metadata": {},
          "execution_count": 16
        }
      ]
    },
    {
      "cell_type": "code",
      "source": [
        "str_ex.index(\"welcome\")"
      ],
      "metadata": {
        "colab": {
          "base_uri": "https://localhost:8080/"
        },
        "id": "pI5k75LaOlOs",
        "outputId": "191eef03-ac01-42d2-95b7-a33e708dc1c9"
      },
      "execution_count": 17,
      "outputs": [
        {
          "output_type": "execute_result",
          "data": {
            "text/plain": [
              "0"
            ]
          },
          "metadata": {},
          "execution_count": 17
        }
      ]
    },
    {
      "cell_type": "code",
      "source": [
        "num_=\"10\"\n",
        "print(num_.isnumeric(),\n",
        "num_.isalnum(),\n",
        "num_.isdecimal(),\n",
        "num_.isdigit(),\n",
        "num_.islower(),\n",
        "num_.isupper(),\n",
        "num_.isspace(),\n",
        "num_.isascii())"
      ],
      "metadata": {
        "colab": {
          "base_uri": "https://localhost:8080/"
        },
        "id": "P7K61TmbOmPr",
        "outputId": "4877d05a-444e-4a2f-97da-7401cfd2ccff"
      },
      "execution_count": 18,
      "outputs": [
        {
          "output_type": "stream",
          "name": "stdout",
          "text": [
            "True True True True False False False True\n"
          ]
        }
      ]
    },
    {
      "cell_type": "markdown",
      "source": [
        "# LISTAS"
      ],
      "metadata": {
        "id": "mUZKil2FOut6"
      }
    },
    {
      "cell_type": "code",
      "source": [
        "list_1=[1,2,3,4,5]\n",
        "list_type=[\"hi\",5.8,7,[5,7,8,9],(7,8,2)]\n",
        "print(list_type[2])\n",
        "type(list_type)\n",
        "print(list_1[:5])\n",
        "print(list_1[1:4])\n",
        "print(list_1[-2:])\n",
        "print(list_1[:-3])"
      ],
      "metadata": {
        "colab": {
          "base_uri": "https://localhost:8080/"
        },
        "id": "m543JJDjOwjs",
        "outputId": "052e4f51-aba0-4488-fbe0-484ac1bbb326"
      },
      "execution_count": 19,
      "outputs": [
        {
          "output_type": "stream",
          "name": "stdout",
          "text": [
            "7\n",
            "[1, 2, 3, 4, 5]\n",
            "[2, 3, 4]\n",
            "[4, 5]\n",
            "[1, 2]\n"
          ]
        }
      ]
    },
    {
      "cell_type": "markdown",
      "source": [
        "# LISTAS FUNCIONALES"
      ],
      "metadata": {
        "id": "fieYqaAvO1Zr"
      }
    },
    {
      "cell_type": "code",
      "source": [
        "print(list_1.append(10))\n",
        "print(list_1.insert(0,\"hi\"))\n",
        "print(list_1.pop())   #remove last element\n",
        "print(list_1.pop(5))\n",
        "del list_1 #.clear()\n",
        "print(list_1)"
      ],
      "metadata": {
        "colab": {
          "base_uri": "https://localhost:8080/",
          "height": 245
        },
        "id": "QjGGi4JRO5BM",
        "outputId": "583536af-ca51-4435-8f3b-0abcc7ef8375"
      },
      "execution_count": 20,
      "outputs": [
        {
          "output_type": "stream",
          "name": "stdout",
          "text": [
            "None\n",
            "None\n",
            "10\n",
            "5\n"
          ]
        },
        {
          "output_type": "error",
          "ename": "NameError",
          "evalue": "name 'list_1' is not defined",
          "traceback": [
            "\u001b[0;31m---------------------------------------------------------------------------\u001b[0m",
            "\u001b[0;31mNameError\u001b[0m                                 Traceback (most recent call last)",
            "\u001b[0;32m<ipython-input-20-748c9a1ce3cb>\u001b[0m in \u001b[0;36m<cell line: 6>\u001b[0;34m()\u001b[0m\n\u001b[1;32m      4\u001b[0m \u001b[0mprint\u001b[0m\u001b[0;34m(\u001b[0m\u001b[0mlist_1\u001b[0m\u001b[0;34m.\u001b[0m\u001b[0mpop\u001b[0m\u001b[0;34m(\u001b[0m\u001b[0;36m5\u001b[0m\u001b[0;34m)\u001b[0m\u001b[0;34m)\u001b[0m\u001b[0;34m\u001b[0m\u001b[0;34m\u001b[0m\u001b[0m\n\u001b[1;32m      5\u001b[0m \u001b[0;32mdel\u001b[0m \u001b[0mlist_1\u001b[0m \u001b[0;31m#.clear()\u001b[0m\u001b[0;34m\u001b[0m\u001b[0;34m\u001b[0m\u001b[0m\n\u001b[0;32m----> 6\u001b[0;31m \u001b[0mprint\u001b[0m\u001b[0;34m(\u001b[0m\u001b[0mlist_1\u001b[0m\u001b[0;34m)\u001b[0m\u001b[0;34m\u001b[0m\u001b[0;34m\u001b[0m\u001b[0m\n\u001b[0m",
            "\u001b[0;31mNameError\u001b[0m: name 'list_1' is not defined"
          ]
        }
      ]
    },
    {
      "cell_type": "markdown",
      "source": [
        "# BUCLE Y AFILIACIÓN"
      ],
      "metadata": {
        "id": "zpL2COewe8N-"
      }
    },
    {
      "cell_type": "code",
      "source": [
        "for i in list_type:\n",
        "    print(i)"
      ],
      "metadata": {
        "colab": {
          "base_uri": "https://localhost:8080/"
        },
        "id": "g0OPsmQhfIhC",
        "outputId": "e5a3a51c-0b2f-4a49-ff29-6c2679b0dce2"
      },
      "execution_count": 21,
      "outputs": [
        {
          "output_type": "stream",
          "name": "stdout",
          "text": [
            "hi\n",
            "5.8\n",
            "7\n",
            "[5, 7, 8, 9]\n",
            "(7, 8, 2)\n"
          ]
        }
      ]
    },
    {
      "cell_type": "code",
      "source": [
        "for i in enumerate(list_type):\n",
        "    print(i)"
      ],
      "metadata": {
        "colab": {
          "base_uri": "https://localhost:8080/"
        },
        "id": "p5MS1qHrfNvS",
        "outputId": "3ddde82c-e63c-40e2-c346-5b771cd1fa1e"
      },
      "execution_count": 22,
      "outputs": [
        {
          "output_type": "stream",
          "name": "stdout",
          "text": [
            "(0, 'hi')\n",
            "(1, 5.8)\n",
            "(2, 7)\n",
            "(3, [5, 7, 8, 9])\n",
            "(4, (7, 8, 2))\n"
          ]
        }
      ]
    },
    {
      "cell_type": "code",
      "source": [
        "# revertir & ordenar & ordenado\n",
        "sort_reverse=[3,6,4,57,8,2]\n",
        "sort_reverse.sort()\n",
        "print(sort_reverse)\n",
        "print(sorted(sort_reverse))\n",
        "sort_reverse.sort(reverse=True)\n",
        "print(sort_reverse)"
      ],
      "metadata": {
        "colab": {
          "base_uri": "https://localhost:8080/"
        },
        "id": "DQDQsI61fQnZ",
        "outputId": "432ae1d2-46aa-4d61-fbf3-6f49ca248d92"
      },
      "execution_count": 23,
      "outputs": [
        {
          "output_type": "stream",
          "name": "stdout",
          "text": [
            "[2, 3, 4, 6, 8, 57]\n",
            "[2, 3, 4, 6, 8, 57]\n",
            "[57, 8, 6, 4, 3, 2]\n"
          ]
        }
      ]
    },
    {
      "cell_type": "code",
      "source": [
        "any(sort_reverse)"
      ],
      "metadata": {
        "colab": {
          "base_uri": "https://localhost:8080/"
        },
        "id": "KRYyegFQfcwX",
        "outputId": "de26abf2-e484-491d-b1eb-8fdf2d068ffb"
      },
      "execution_count": 24,
      "outputs": [
        {
          "output_type": "execute_result",
          "data": {
            "text/plain": [
              "True"
            ]
          },
          "metadata": {},
          "execution_count": 24
        }
      ]
    },
    {
      "cell_type": "code",
      "source": [
        "all(sort_reverse)"
      ],
      "metadata": {
        "colab": {
          "base_uri": "https://localhost:8080/"
        },
        "id": "WjdlFOrZfg6z",
        "outputId": "a5542090-36c5-4f8b-d8f4-b7c5476a82ed"
      },
      "execution_count": 25,
      "outputs": [
        {
          "output_type": "execute_result",
          "data": {
            "text/plain": [
              "True"
            ]
          },
          "metadata": {},
          "execution_count": 25
        }
      ]
    },
    {
      "cell_type": "markdown",
      "source": [
        "# TUPLA"
      ],
      "metadata": {
        "id": "zMfaixYnfqW1"
      }
    },
    {
      "cell_type": "code",
      "source": [
        "(1,) #tupla"
      ],
      "metadata": {
        "colab": {
          "base_uri": "https://localhost:8080/"
        },
        "id": "fyM_W-6nfry8",
        "outputId": "7c4e7ab2-c844-4c87-8735-20129e8b5413"
      },
      "execution_count": 27,
      "outputs": [
        {
          "output_type": "execute_result",
          "data": {
            "text/plain": [
              "(1,)"
            ]
          },
          "metadata": {},
          "execution_count": 27
        }
      ]
    },
    {
      "cell_type": "code",
      "source": [
        "tupla_=(1,2.3,\"hi\",1)\n",
        "print(tupla_.index(2.3))\n",
        "tupla_.count(1)"
      ],
      "metadata": {
        "colab": {
          "base_uri": "https://localhost:8080/"
        },
        "id": "L3jxe5ewfyWs",
        "outputId": "bf61d2a6-8696-4016-9038-5f27ea8ba6a1"
      },
      "execution_count": 28,
      "outputs": [
        {
          "output_type": "stream",
          "name": "stdout",
          "text": [
            "1\n"
          ]
        },
        {
          "output_type": "execute_result",
          "data": {
            "text/plain": [
              "2"
            ]
          },
          "metadata": {},
          "execution_count": 28
        }
      ]
    },
    {
      "cell_type": "code",
      "source": [
        "tupla_a=(1,4,6)\n",
        "tupla_b=(7,4,8)\n",
        "print(tupla_a+tupla_b)\n",
        "tupla_x=tupla_a+tupla_b"
      ],
      "metadata": {
        "colab": {
          "base_uri": "https://localhost:8080/"
        },
        "id": "fsx1Vk6of46t",
        "outputId": "ae889802-3ba3-4b87-8fc4-8f841cd5ec59"
      },
      "execution_count": 30,
      "outputs": [
        {
          "output_type": "stream",
          "name": "stdout",
          "text": [
            "(1, 4, 6, 7, 4, 8)\n"
          ]
        }
      ]
    },
    {
      "cell_type": "code",
      "source": [
        "tupla_a*3"
      ],
      "metadata": {
        "colab": {
          "base_uri": "https://localhost:8080/"
        },
        "id": "AsOHS5vWgG3p",
        "outputId": "ea2adf55-953c-413c-cdba-97d0fff5a35d"
      },
      "execution_count": 31,
      "outputs": [
        {
          "output_type": "execute_result",
          "data": {
            "text/plain": [
              "(1, 4, 6, 1, 4, 6, 1, 4, 6)"
            ]
          },
          "metadata": {},
          "execution_count": 31
        }
      ]
    },
    {
      "cell_type": "code",
      "source": [
        "for i in tupla_a:\n",
        "    print(i)"
      ],
      "metadata": {
        "colab": {
          "base_uri": "https://localhost:8080/"
        },
        "id": "TX6V8tTngKu4",
        "outputId": "ada17dc1-cf3c-40d8-dd3a-9e332b9ef50b"
      },
      "execution_count": 32,
      "outputs": [
        {
          "output_type": "stream",
          "name": "stdout",
          "text": [
            "1\n",
            "4\n",
            "6\n"
          ]
        }
      ]
    },
    {
      "cell_type": "code",
      "source": [
        "# Asterisco\n",
        "ex_tupla=(1,2,3,4,5,4,8,0)\n",
        "(x,*y,z)=ex_tupla\n",
        "print(x)\n",
        "print(y)\n",
        "print(z)"
      ],
      "metadata": {
        "colab": {
          "base_uri": "https://localhost:8080/"
        },
        "id": "4qNRMgB4gO0g",
        "outputId": "436e6878-2dc6-43d7-ae63-5174d2e664a8"
      },
      "execution_count": 33,
      "outputs": [
        {
          "output_type": "stream",
          "name": "stdout",
          "text": [
            "1\n",
            "[2, 3, 4, 5, 4, 8]\n",
            "0\n"
          ]
        }
      ]
    },
    {
      "cell_type": "code",
      "source": [
        "tupla_x[:]"
      ],
      "metadata": {
        "colab": {
          "base_uri": "https://localhost:8080/"
        },
        "id": "qH9ByLmngVQf",
        "outputId": "2c6fc714-2733-4760-b9de-1b5df296914a"
      },
      "execution_count": 34,
      "outputs": [
        {
          "output_type": "execute_result",
          "data": {
            "text/plain": [
              "(1, 4, 6, 7, 4, 8)"
            ]
          },
          "metadata": {},
          "execution_count": 34
        }
      ]
    },
    {
      "cell_type": "code",
      "source": [
        "print(tupla_x[-5:-2])\n",
        "print(tupla_x[1:3])\n",
        "tupla_x[::-1]"
      ],
      "metadata": {
        "colab": {
          "base_uri": "https://localhost:8080/"
        },
        "id": "TbSACNkSgZiH",
        "outputId": "fd7c077b-c285-4db6-ee26-6314208999d9"
      },
      "execution_count": 35,
      "outputs": [
        {
          "output_type": "stream",
          "name": "stdout",
          "text": [
            "(4, 6, 7)\n",
            "(4, 6)\n"
          ]
        },
        {
          "output_type": "execute_result",
          "data": {
            "text/plain": [
              "(8, 4, 7, 6, 4, 1)"
            ]
          },
          "metadata": {},
          "execution_count": 35
        }
      ]
    },
    {
      "cell_type": "code",
      "source": [
        "# tupla es immutable (no cambiable)\n",
        "# uno del camino se actualiza\n",
        "tupla_1=(88,)\n",
        "tupla_x+=tupla_1\n",
        "print(tupla_x)"
      ],
      "metadata": {
        "colab": {
          "base_uri": "https://localhost:8080/"
        },
        "id": "u0n1mOpBgejc",
        "outputId": "1899edbf-a933-44e1-e2a2-6864f8ce4884"
      },
      "execution_count": 36,
      "outputs": [
        {
          "output_type": "stream",
          "name": "stdout",
          "text": [
            "(1, 4, 6, 7, 4, 8, 88)\n"
          ]
        }
      ]
    },
    {
      "cell_type": "markdown",
      "source": [
        "# SET"
      ],
      "metadata": {
        "id": "iAOhQFBng62O"
      }
    },
    {
      "cell_type": "markdown",
      "source": [
        "# set es un tipo de datos mutable no duplicado"
      ],
      "metadata": {
        "id": "e0li7OUEjjpZ"
      }
    },
    {
      "cell_type": "code",
      "source": [
        "set_={1,5,8,4,5,4} #Se eliminan los duplicados\n",
        "set_"
      ],
      "metadata": {
        "colab": {
          "base_uri": "https://localhost:8080/"
        },
        "id": "vwOY1tCxjm0H",
        "outputId": "96a8f40f-6c4d-4e0d-cced-7538cfd97b84"
      },
      "execution_count": 37,
      "outputs": [
        {
          "output_type": "execute_result",
          "data": {
            "text/plain": [
              "{1, 4, 5, 8}"
            ]
          },
          "metadata": {},
          "execution_count": 37
        }
      ]
    },
    {
      "cell_type": "code",
      "source": [
        "#funciones\n",
        "set_a={1,8,5,7,2,6}\n",
        "set_={1,5,8,4,5,4}"
      ],
      "metadata": {
        "id": "HOXGHkkXlCB2"
      },
      "execution_count": 38,
      "outputs": []
    },
    {
      "cell_type": "code",
      "source": [
        "print(set_.add(5),\n",
        "set_.difference(set_a),\n",
        "set_.intersection(set_a),\n",
        "set_.union(set_a),\n",
        "set_.symmetric_difference(set_a),\n",
        "set_.pop(),\n",
        "set_.update([5,8,70]),\n",
        "set_)"
      ],
      "metadata": {
        "colab": {
          "base_uri": "https://localhost:8080/"
        },
        "id": "3thXl1YalJNQ",
        "outputId": "c0a4578e-6597-4ed1-e0aa-7bb32eb78683"
      },
      "execution_count": 39,
      "outputs": [
        {
          "output_type": "stream",
          "name": "stdout",
          "text": [
            "None {4} {8, 1, 5} {1, 2, 4, 5, 6, 7, 8} {2, 4, 6, 7} 8 None {1, 4, 5, 70, 8}\n"
          ]
        }
      ]
    },
    {
      "cell_type": "code",
      "source": [
        "list(enumerate(set_))"
      ],
      "metadata": {
        "colab": {
          "base_uri": "https://localhost:8080/"
        },
        "id": "xr0bXwhSlMUu",
        "outputId": "91808d72-08c2-44f5-d862-3c6177ac9ee5"
      },
      "execution_count": 40,
      "outputs": [
        {
          "output_type": "execute_result",
          "data": {
            "text/plain": [
              "[(0, 1), (1, 4), (2, 5), (3, 70), (4, 8)]"
            ]
          },
          "metadata": {},
          "execution_count": 40
        }
      ]
    },
    {
      "cell_type": "markdown",
      "source": [
        "# DICT"
      ],
      "metadata": {
        "id": "bTyhBgmbls9A"
      }
    },
    {
      "cell_type": "code",
      "source": [
        "dict_={\"A\":1,\"B\":2,\"C\":3}\n",
        "dict_"
      ],
      "metadata": {
        "colab": {
          "base_uri": "https://localhost:8080/"
        },
        "id": "64G3Rt43ltro",
        "outputId": "edb1819a-a3da-48fd-baeb-f394a53cbab5"
      },
      "execution_count": 41,
      "outputs": [
        {
          "output_type": "execute_result",
          "data": {
            "text/plain": [
              "{'A': 1, 'B': 2, 'C': 3}"
            ]
          },
          "metadata": {},
          "execution_count": 41
        }
      ]
    },
    {
      "cell_type": "code",
      "source": [
        "dict_.items()"
      ],
      "metadata": {
        "colab": {
          "base_uri": "https://localhost:8080/"
        },
        "id": "M5ZSduaxl3qy",
        "outputId": "e6f90884-e979-4cbb-8f24-532d91b220b4"
      },
      "execution_count": 42,
      "outputs": [
        {
          "output_type": "execute_result",
          "data": {
            "text/plain": [
              "dict_items([('A', 1), ('B', 2), ('C', 3)])"
            ]
          },
          "metadata": {},
          "execution_count": 42
        }
      ]
    },
    {
      "cell_type": "code",
      "source": [
        "dict_.values()"
      ],
      "metadata": {
        "colab": {
          "base_uri": "https://localhost:8080/"
        },
        "id": "3YFA1LHqmcib",
        "outputId": "68602e2d-46d0-449a-eda9-161237b3750e"
      },
      "execution_count": 43,
      "outputs": [
        {
          "output_type": "execute_result",
          "data": {
            "text/plain": [
              "dict_values([1, 2, 3])"
            ]
          },
          "metadata": {},
          "execution_count": 43
        }
      ]
    },
    {
      "cell_type": "code",
      "source": [
        "dict_.keys()"
      ],
      "metadata": {
        "colab": {
          "base_uri": "https://localhost:8080/"
        },
        "id": "DvtVVNZNmfrj",
        "outputId": "73d3fddd-991b-4550-a86d-34b1137932a5"
      },
      "execution_count": 44,
      "outputs": [
        {
          "output_type": "execute_result",
          "data": {
            "text/plain": [
              "dict_keys(['A', 'B', 'C'])"
            ]
          },
          "metadata": {},
          "execution_count": 44
        }
      ]
    },
    {
      "cell_type": "code",
      "source": [
        "a=[1,4,7,3]\n",
        "b={2,5,3,7}\n",
        "dict_.fromkeys(a,b)"
      ],
      "metadata": {
        "colab": {
          "base_uri": "https://localhost:8080/"
        },
        "id": "z0TNNESRmif6",
        "outputId": "8a892b75-26e6-469e-f31c-7a4bd30b47bf"
      },
      "execution_count": 45,
      "outputs": [
        {
          "output_type": "execute_result",
          "data": {
            "text/plain": [
              "{1: {2, 3, 5, 7}, 4: {2, 3, 5, 7}, 7: {2, 3, 5, 7}, 3: {2, 3, 5, 7}}"
            ]
          },
          "metadata": {},
          "execution_count": 45
        }
      ]
    },
    {
      "cell_type": "code",
      "source": [
        "# dict_.[]\n",
        "# dict_.get()           #Accesando a los valores"
      ],
      "metadata": {
        "id": "HfOsmaW-mlVD"
      },
      "execution_count": null,
      "outputs": []
    },
    {
      "cell_type": "code",
      "source": [
        "dict_.pop(\"A\")"
      ],
      "metadata": {
        "colab": {
          "base_uri": "https://localhost:8080/"
        },
        "id": "lpgyA5EbmrGM",
        "outputId": "306d6a47-7157-44b2-a0ab-c233962e5e62"
      },
      "execution_count": 46,
      "outputs": [
        {
          "output_type": "execute_result",
          "data": {
            "text/plain": [
              "1"
            ]
          },
          "metadata": {},
          "execution_count": 46
        }
      ]
    },
    {
      "cell_type": "code",
      "source": [
        "# (*)args & (**)kwargs\n",
        "# *args -> longitud variable Argumentos sin palabra clave (pasados como una tupla)\n",
        "# **kwargs -> longitud variable Palabra clave Argumentos (pasados como diccionario)"
      ],
      "metadata": {
        "id": "TvnFyEbdmtmx"
      },
      "execution_count": null,
      "outputs": []
    }
  ]
}