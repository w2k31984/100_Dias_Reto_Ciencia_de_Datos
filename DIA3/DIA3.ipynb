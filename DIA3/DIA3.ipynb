{
  "nbformat": 4,
  "nbformat_minor": 0,
  "metadata": {
    "colab": {
      "provenance": []
    },
    "kernelspec": {
      "name": "python3",
      "display_name": "Python 3"
    },
    "language_info": {
      "name": "python"
    }
  },
  "cells": [
    {
      "cell_type": "markdown",
      "source": [
        "# LAMBDA , MAP , REDUCE , FILTER"
      ],
      "metadata": {
        "id": "b5DTNxtFKiYb"
      }
    },
    {
      "cell_type": "code",
      "source": [
        "res = (lambda *args: sum(args))\n",
        "res(10,20) , res(10,20,30,40) ,  res(10,20,30,40,50,60,70)"
      ],
      "metadata": {
        "colab": {
          "base_uri": "https://localhost:8080/"
        },
        "id": "rBVsR4eBKp1T",
        "outputId": "5ddeb7d3-0cdb-4b6e-eab1-476873467179"
      },
      "execution_count": 1,
      "outputs": [
        {
          "output_type": "execute_result",
          "data": {
            "text/plain": [
              "(30, 100, 280)"
            ]
          },
          "metadata": {},
          "execution_count": 1
        }
      ]
    },
    {
      "cell_type": "code",
      "source": [
        "odd_num=[1,8,7,5,9,33]\n",
        "def twice(n):\n",
        "    return n*2\n",
        "doubles = list(map(twice,odd_num))\n",
        "doubles"
      ],
      "metadata": {
        "colab": {
          "base_uri": "https://localhost:8080/"
        },
        "id": "5G9AlENuKtBc",
        "outputId": "dcd1b7fc-e205-4155-decb-c60713a103f0"
      },
      "execution_count": 2,
      "outputs": [
        {
          "output_type": "execute_result",
          "data": {
            "text/plain": [
              "[2, 16, 14, 10, 18, 66]"
            ]
          },
          "metadata": {},
          "execution_count": 2
        }
      ]
    },
    {
      "cell_type": "code",
      "source": [
        "from functools import reduce\n",
        "def add(a,b):\n",
        "    return a+b\n",
        "sum_all = reduce(add,doubles)\n",
        "sum_all"
      ],
      "metadata": {
        "colab": {
          "base_uri": "https://localhost:8080/"
        },
        "id": "cja8UrnlKviq",
        "outputId": "4bb030ae-ae37-4694-dbf9-4b047bf79d84"
      },
      "execution_count": 3,
      "outputs": [
        {
          "output_type": "execute_result",
          "data": {
            "text/plain": [
              "126"
            ]
          },
          "metadata": {},
          "execution_count": 3
        }
      ]
    },
    {
      "cell_type": "code",
      "source": [
        "list1 = [1,2,3,4,5,6,7,8,9]\n",
        "def odd(n):\n",
        "    if n%2 ==1: return True\n",
        "    else: return False\n",
        "odd_num = list(filter(odd,list1))\n",
        "odd_num"
      ],
      "metadata": {
        "colab": {
          "base_uri": "https://localhost:8080/"
        },
        "id": "T2CYzDgXKzO8",
        "outputId": "d7993674-76a5-42e5-80e7-c83dd04006bf"
      },
      "execution_count": 4,
      "outputs": [
        {
          "output_type": "execute_result",
          "data": {
            "text/plain": [
              "[1, 3, 5, 7, 9]"
            ]
          },
          "metadata": {},
          "execution_count": 4
        }
      ]
    },
    {
      "cell_type": "markdown",
      "source": [
        "# CLASES Y OBJETOS"
      ],
      "metadata": {
        "id": "tU5ogsvhLbU0"
      }
    },
    {
      "cell_type": "code",
      "source": [
        "class mi_clase:\n",
        "    var_1 = 100\n",
        "obj1 = mi_clase()\n",
        "print(obj1.var_1)"
      ],
      "metadata": {
        "colab": {
          "base_uri": "https://localhost:8080/"
        },
        "id": "Mu12gVEcLgU3",
        "outputId": "61bda494-98ef-4b8a-a86f-0954c6fc914c"
      },
      "execution_count": 5,
      "outputs": [
        {
          "output_type": "stream",
          "name": "stdout",
          "text": [
            "100\n"
          ]
        }
      ]
    },
    {
      "cell_type": "code",
      "source": [
        "class miclase:\n",
        "    def __init__(self,a):\n",
        "        self.var_1 = 100+a\n",
        "obj1 = miclase(15)\n",
        "print(obj1.var_1)"
      ],
      "metadata": {
        "colab": {
          "base_uri": "https://localhost:8080/"
        },
        "id": "c3w_a_m8LqcD",
        "outputId": "763c5a1f-b98e-4a59-cc0f-b6ffd99b5d99"
      },
      "execution_count": 6,
      "outputs": [
        {
          "output_type": "stream",
          "name": "stdout",
          "text": [
            "115\n"
          ]
        }
      ]
    },
    {
      "cell_type": "markdown",
      "source": [
        "# herencia"
      ],
      "metadata": {
        "id": "IFcAQpoUL3ep"
      }
    },
    {
      "cell_type": "code",
      "source": [
        "# multinivel , solo , herencia jerárquica\n",
        "class persona:\n",
        "# Clase Padre\n",
        "    def __init__(self, nombre , edad , genero):\n",
        "        self.nombre = nombre\n",
        "        self.edad = edad\n",
        "        self.genero = genero\n",
        "    def PersonaInfo(self):\n",
        "        print('Nombre :- {}'.format(self.nombre))\n",
        "        print('Edad :- {}'.format(self.edad))\n",
        "        print('Genero :- {}'.format(self.genero))\n",
        "\n",
        "class empleado(persona): # Clase hijo\n",
        "    def __init__(self,nombre,edad,genero,empid,salario):\n",
        "        persona.__init__(self,nombre,edad,genero)\n",
        "        self.empid = empid\n",
        "        self.salario = salario\n",
        "    def EmpleadoInfo(self):\n",
        "        print('ID Empleado :- {}'.format(self.empid))\n",
        "        print('Salario :- {}'.format(self.salario))\n",
        "\n",
        "class tiempocompleto(empleado): # Clase gran hijo\n",
        "    def __init__(self,nombre,edad,genero,empid,salario,ExperienciaLaboral):\n",
        "        empleado.__init__(self,nombre,edad,genero,empid,salario)\n",
        "        self.ExperienciaLaboral = ExperienciaLaboral\n",
        "    def TiempoCompletoInfo(self):\n",
        "        print('Experiencia Laboral :- {}'.format(self.ExperienciaLaboral))\n",
        "\n",
        "class contractual(empleado): # Clase gran hijo\n",
        "    def __init__(self,nombre,edad,genero,empid,salario,ExpiracionContrato):\n",
        "        empleado.__init__(self,nombre,edad,genero,empid,salario)\n",
        "        self.ExpiracionContrato = ExpiracionContrato\n",
        "    def ContratoInfo(self):\n",
        "        print('Expiracion de Contrato :- {}'.format(self.ExpiracionContrato))\n",
        "        print('Detalle contractual de Empleado')\n",
        "        print('****************************')\n",
        "\n",
        "contrato1 = contractual('Basit' , 36 , 'Masculino' , 456 , 80000,'21-12-2021')\n",
        "contrato1.PersonaInfo()\n",
        "contrato1.EmpleadoInfo()\n",
        "contrato1.ContratoInfo()\n",
        "print('\\n \\n')"
      ],
      "metadata": {
        "colab": {
          "base_uri": "https://localhost:8080/"
        },
        "id": "aTWmHNk-L6Dn",
        "outputId": "b075e707-9e62-4c47-e700-55f41fa4eb68"
      },
      "execution_count": 7,
      "outputs": [
        {
          "output_type": "stream",
          "name": "stdout",
          "text": [
            "Nombre :- Basit\n",
            "Edad :- 36\n",
            "Genero :- Masculino\n",
            "ID Empleado :- 456\n",
            "Salario :- 80000\n",
            "Expiracion de Contrato :- 21-12-2021\n",
            "Detalle contractual de Empleado\n",
            "****************************\n",
            "\n",
            " \n",
            "\n"
          ]
        }
      ]
    },
    {
      "cell_type": "code",
      "source": [
        "# Super Clase Padre\n",
        "class Father:\n",
        "    def __init__(self):\n",
        "        self.fathername = str()\n",
        " # Super Clase Madre\n",
        "class Mother:\n",
        "    def __init__(self):\n",
        "        self.mothername = str()\n",
        " # Sub Clase Hijo\n",
        "class Son(Father, Mother):\n",
        "    name = str()\n",
        "    def show(self):\n",
        "        print('Mi Nombre :- ',self.name)\n",
        "        print(\"Padre :\", self.fathername)\n",
        "        print(\"Madre :\", self.mothername)\n",
        "s1 = Son()\n",
        "s1.name = 'Bill'\n",
        "s1.fathername = \"John\"\n",
        "s1.mothername = \"Kristen\"\n",
        "s1.show()"
      ],
      "metadata": {
        "colab": {
          "base_uri": "https://localhost:8080/"
        },
        "id": "d5FGtAirPEnU",
        "outputId": "c521db63-b6f7-4211-ae8d-bdd7f6582bd9"
      },
      "execution_count": 8,
      "outputs": [
        {
          "output_type": "stream",
          "name": "stdout",
          "text": [
            "Mi Nombre :-  Bill\n",
            "Padre : John\n",
            "Madre : Kristen\n"
          ]
        }
      ]
    },
    {
      "cell_type": "code",
      "source": [
        "class persona:   # Clase Padre\n",
        "    def __init__(self, name , age , gender):\n",
        "        self.name = name\n",
        "        self.age = age\n",
        "        self.gender = gender\n",
        "    def PersonaInfo(self):\n",
        "        print('Name :- {}'.format(self.name))\n",
        "        print('Age :- {}'.format(self.age))\n",
        "        print('Gender :- {}'.format(self.gender))\n",
        "\n",
        "class estudiante(persona): # Clase Hijo\n",
        "    def __init__(self,name,age,gender,studentid,fees):\n",
        "        super().__init__(name,age,gender)\n",
        "        self.studentid = studentid\n",
        "        self.fees = fees\n",
        "    def EstudianteInfo(self):\n",
        "        super().PersonaInfo()\n",
        "        print('Student ID :- {}'.format(self.studentid))\n",
        "        print('Fees :- {}'.format(self.fees))\n",
        "stud = estudiante('Asif' , 24 , 'Male' , 123 , 1200)\n",
        "print('Detalle de Estudiante')\n",
        "print('---------------')\n",
        "stud.EstudianteInfo()"
      ],
      "metadata": {
        "colab": {
          "base_uri": "https://localhost:8080/"
        },
        "id": "JcvaY8vKPdFs",
        "outputId": "2aff9289-60c4-47b0-e065-f5c4a12a7783"
      },
      "execution_count": 10,
      "outputs": [
        {
          "output_type": "stream",
          "name": "stdout",
          "text": [
            "Detalle de Estudiante\n",
            "---------------\n",
            "Name :- Asif\n",
            "Age :- 24\n",
            "Gender :- Male\n",
            "Student ID :- 123\n",
            "Fees :- 1200\n"
          ]
        }
      ]
    },
    {
      "cell_type": "markdown",
      "source": [
        "# Iteradores"
      ],
      "metadata": {
        "id": "prYb0qCvQ0n_"
      }
    },
    {
      "cell_type": "code",
      "source": [
        "# iter()\n",
        "# next() (StopIteration) -> .__next__()"
      ],
      "metadata": {
        "id": "GVQ7jsccRNEI"
      },
      "execution_count": null,
      "outputs": []
    },
    {
      "cell_type": "code",
      "source": [
        "m=[1,5,8,2,7,6]\n",
        "x=iter(m)\n",
        "print(x.__next__())\n",
        "print(x.__next__())\n",
        "print(x.__next__())"
      ],
      "metadata": {
        "colab": {
          "base_uri": "https://localhost:8080/"
        },
        "id": "Vh7HVL7aRPRz",
        "outputId": "207c1113-621b-4877-8ad3-91cc9c7ab486"
      },
      "execution_count": 11,
      "outputs": [
        {
          "output_type": "stream",
          "name": "stdout",
          "text": [
            "1\n",
            "5\n",
            "8\n"
          ]
        }
      ]
    },
    {
      "cell_type": "markdown",
      "source": [
        "#  Decoradores"
      ],
      "metadata": {
        "id": "Aukomdp7RTG4"
      }
    },
    {
      "cell_type": "code",
      "source": [
        "def install_decorator(func):\n",
        "    def wrapper():\n",
        "        print(\"Leer terminos y condiciones\")\n",
        "        return func()\n",
        "    return wrapper()\n",
        "\n",
        "@install_decorator\n",
        "def A_user():\n",
        "    print(\"login\")\n",
        "\n",
        "@install_decorator\n",
        "def B_user():\n",
        "    print(\"login_page\")"
      ],
      "metadata": {
        "colab": {
          "base_uri": "https://localhost:8080/"
        },
        "id": "m6LhBVVVRVhM",
        "outputId": "c4aadbc5-140b-48b4-b334-d2cad4eb9608"
      },
      "execution_count": 13,
      "outputs": [
        {
          "output_type": "stream",
          "name": "stdout",
          "text": [
            "Leer terminos y condiciones\n",
            "login\n",
            "Leer terminos y condiciones\n",
            "login_page\n"
          ]
        }
      ]
    }
  ]
}